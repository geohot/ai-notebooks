{
 "cells": [
  {
   "cell_type": "code",
   "execution_count": null,
   "id": "7945e846-2377-418c-9313-20f5e344e9ad",
   "metadata": {},
   "outputs": [],
   "source": [
    "# https://arxiv.org/pdf/2412.06264\n",
    "%matplotlib inline\n",
    "from tinygrad import Tensor, nn, TinyJit\n",
    "from sklearn.datasets import make_moons\n",
    "import matplotlib.pyplot as plt\n",
    "import numpy as np"
   ]
  },
  {
   "cell_type": "code",
   "execution_count": null,
   "id": "0043930a-749c-4b83-9215-2201b2bcac28",
   "metadata": {},
   "outputs": [],
   "source": [
    "class Flow:\n",
    "  def __init__(self, dim=2, h=64):\n",
    "    self.net = [\n",
    "      nn.Linear(dim+1, h), Tensor.elu,\n",
    "      nn.Linear(h, h), Tensor.elu,\n",
    "      nn.Linear(h, h), Tensor.elu,\n",
    "      nn.Linear(h, dim)]\n",
    "\n",
    "  def __call__(self, x_t:Tensor, t:Tensor) -> Tensor:\n",
    "    return t.cat(x_t, dim=-1).sequential(self.net)\n",
    "\n",
    "  def step(self, x_t:Tensor, t_start:Tensor, t_end:Tensor) -> Tensor:\n",
    "    t_start = t_start.view(1, 1).expand(x_t.shape[0], 1)\n",
    "    # For simplicity, using midpoint ODE solver in this example\n",
    "    return x_t + (t_end - t_start) * self(x_t + self(x_t, t_start) * (t_end - t_start) / 2, t_start + (t_end - t_start) / 2)"
   ]
  },
  {
   "cell_type": "code",
   "execution_count": null,
   "id": "e5dcf0f5-39c0-49e8-be90-5a67d27c848b",
   "metadata": {},
   "outputs": [],
   "source": [
    "flow = Flow()\n",
    "optimizer = nn.optim.Adam(nn.state.get_parameters(flow), 1e-2)"
   ]
  },
  {
   "cell_type": "code",
   "execution_count": null,
   "id": "95179a85",
   "metadata": {},
   "outputs": [],
   "source": [
    "@TinyJit\n",
    "@Tensor.train()\n",
    "def train(x_1:Tensor):\n",
    "  x_0 = Tensor.randn_like(x_1)\n",
    "  t = Tensor.rand(len(x_1), 1)\n",
    "  x_t = (1 - t) * x_0 + t * x_1\n",
    "  dx_t = x_1 - x_0\n",
    "  optimizer.zero_grad()\n",
    "  (flow(x_t, t) - dx_t).square().mean().backward()\n",
    "  optimizer.step()\n",
    "\n",
    "for _ in range(10000):\n",
    "  x_1 = Tensor(make_moons(256, noise=0.05)[0].astype(np.float32))\n",
    "  train(x_1)"
   ]
  },
  {
   "cell_type": "code",
   "execution_count": null,
   "id": "e7f0f369",
   "metadata": {},
   "outputs": [],
   "source": [
    "x = Tensor.randn(300, 2)\n",
    "n_steps = 8\n",
    "time_steps = Tensor.linspace(0, 1.0, n_steps + 1)\n",
    "for i in range(n_steps):\n",
    "  x = flow.step(x, time_steps[i], time_steps[i+1])\n",
    "xn = x.numpy()\n",
    "plt.scatter(xn[:, 0], xn[:, 1])"
   ]
  }
 ],
 "metadata": {
  "kernelspec": {
   "display_name": "Python 3",
   "language": "python",
   "name": "python3"
  },
  "language_info": {
   "codemirror_mode": {
    "name": "ipython",
    "version": 3
   },
   "file_extension": ".py",
   "mimetype": "text/x-python",
   "name": "python",
   "nbconvert_exporter": "python",
   "pygments_lexer": "ipython3",
   "version": "3.12.9"
  }
 },
 "nbformat": 4,
 "nbformat_minor": 5
}
